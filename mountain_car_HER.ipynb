{
 "cells": [
  {
   "cell_type": "code",
   "execution_count": 1,
   "metadata": {},
   "outputs": [],
   "source": [
    "import gym\n",
    "from gym import envs\n",
    "import time\n",
    "from collections import namedtuple\n",
    "import numpy as np\n",
    "import random\n",
    "import matplotlib\n",
    "import matplotlib.pyplot as plt\n",
    "\n",
    "import torch\n",
    "import torch.nn as nn \n",
    "import torch.optim as optim\n",
    "import torch.nn.functional as F\n",
    "import torchvision.transforms as T"
   ]
  },
  {
   "cell_type": "code",
   "execution_count": 2,
   "metadata": {},
   "outputs": [],
   "source": [
    "# set up matplotlib\n",
    "is_ipython = 'inline' in matplotlib.get_backend()\n",
    "if is_ipython:\n",
    "    from IPython import display\n",
    "    from IPython.display import clear_output\n",
    "    \n",
    "plt.ion()"
   ]
  },
  {
   "cell_type": "code",
   "execution_count": 3,
   "metadata": {},
   "outputs": [],
   "source": [
    "#REPLAY MEMORY\n",
    "\n",
    "Transition = namedtuple('Transition', \n",
    "                        ('state', 'action', 'next_state', 'reward', 'goal'))\n",
    "\n",
    "class ReplayMemory(object):\n",
    "    \n",
    "    def __init__(self, capacity):\n",
    "        self.capacity = capacity\n",
    "        self.memory = []\n",
    "        self.position = 0\n",
    "    \n",
    "    def push(self, *args):\n",
    "        '''Saves a transition.'''\n",
    "        if len(self.memory) < self.capacity:\n",
    "            self.memory.append(None)\n",
    "        self.memory[self.position] = Transition(*args)\n",
    "        self.position = (self.position + 1) % self.capacity\n",
    "        \n",
    "    def sample(self, batch_size):\n",
    "        return random.sample(self.memory, batch_size)\n",
    "    \n",
    "    def __len__(self):\n",
    "        return len(self.memory)"
   ]
  },
  {
   "cell_type": "code",
   "execution_count": 4,
   "metadata": {},
   "outputs": [],
   "source": [
    "class network(nn.Module):\n",
    "    \n",
    "    def __init__(self, input_dim, output_dim, units=100):\n",
    "        super(network, self).__init__()\n",
    "        self.layer1 = nn.Linear(input_dim, units)\n",
    "        self.bn1 = nn.BatchNorm1d(units)\n",
    "        self.layer2 = nn.Linear(units, units)\n",
    "        self.bn2 = nn.BatchNorm1d(units)\n",
    "        self.layer3 = nn.Linear(units, output_dim)   \n",
    "        self.output_dim = output_dim\n",
    "        \n",
    "    def forward(self, x, debug=False):\n",
    "        \n",
    "        if debug:\n",
    "            print(x.shape)\n",
    "            x = F.relu(self.layer1(x))\n",
    "            print(x.shape)\n",
    "            x = F.relu(self.layer2(x))\n",
    "            print(x.shape)        \n",
    "            x = F.relu(self.layer3(x))\n",
    "            print(x.shape)\n",
    "        else:\n",
    "            x = F.relu(self.bn1(self.layer1(x)))\n",
    "            x = F.relu(self.bn2(self.layer2(x)))\n",
    "            x = self.layer3(x)\n",
    "        return x"
   ]
  },
  {
   "cell_type": "code",
   "execution_count": 5,
   "metadata": {},
   "outputs": [],
   "source": [
    "class actor_network(nn.Module):\n",
    "    \n",
    "    def __init__(self, input_dim, output_dim, units=100):\n",
    "        super(actor_network, self).__init__()\n",
    "        self.layer1 = nn.Linear(input_dim, units)\n",
    "        self.bn1 = nn.BatchNorm1d(units)\n",
    "        self.layer2 = nn.Linear(units, units)\n",
    "        self.bn2 = nn.BatchNorm1d(units)\n",
    "        self.layer3 = nn.Linear(units, output_dim)\n",
    "        \n",
    "        self.tanh = nn.Tanh()\n",
    "        \n",
    "        self.output_dim = output_dim\n",
    "        \n",
    "    def forward(self, x, debug=False):\n",
    "        \n",
    "        if debug:\n",
    "            print(x.shape)\n",
    "            x = F.relu(self.layer1(x))\n",
    "            print(x.shape)\n",
    "            x = F.relu(self.layer2(x))\n",
    "            print(x.shape)        \n",
    "            x = F.relu(self.layer3(x))\n",
    "            print(x.shape)\n",
    "        else:\n",
    "            x = F.relu(self.bn1(self.layer1(x)))\n",
    "            x = F.relu(self.bn2(self.layer2(x)))  \n",
    "            x = self.layer3(x)\n",
    "        return self.tanh(x)"
   ]
  },
  {
   "cell_type": "code",
   "execution_count": 6,
   "metadata": {},
   "outputs": [],
   "source": [
    "def weights_update(tau, target_network, network):\n",
    "    for target_param, param in zip(target_network.parameters(), network.parameters()):\n",
    "        target_param.data.copy_(tau*param.data + target_param.data*(1.0 - tau))"
   ]
  },
  {
   "cell_type": "code",
   "execution_count": 7,
   "metadata": {},
   "outputs": [],
   "source": [
    "def plot_rewards(rewards):\n",
    "    clear_output()\n",
    "    plt.figure()\n",
    "    rewards_tensor = torch.tensor(rewards, dtype=torch.float)\n",
    "    plt.title('Training...')\n",
    "    plt.xlabel('Episode')\n",
    "    plt.ylabel('Duration')\n",
    "    plt.plot(rewards_tensor.numpy())\n",
    "    \n",
    "    if len(rewards_tensor) >=100:\n",
    "        means = rewards_tensor.unfold(0, 100, 1).mean(1).view(-1)\n",
    "        means = torch.cat((torch.ones(99)*-1, means))\n",
    "        plt.plot(means.numpy())\n",
    "        \n",
    "    plt.show()"
   ]
  },
  {
   "cell_type": "code",
   "execution_count": 8,
   "metadata": {},
   "outputs": [],
   "source": [
    "def optimize_model():\n",
    "    if len(R) < BATCH_SIZE:\n",
    "        return\n",
    "   \n",
    "    # sample a random minibatch of N transitions (si, ai, ri, si+1) from R\n",
    "\n",
    "    transitions = R.sample(BATCH_SIZE)\n",
    "    batch = Transition(*zip(*transitions))\n",
    "    # only include non-final states (final state is one after which the simulation ended)\n",
    "    #non_final_mask = torch.tensor(tuple(map(lambda s: s is not None, batch.next_state)), device=device, dtype=torch.bool)\n",
    "    #non_final_next_states = torch.cat([s for s in batch.next_state if s is not None])\n",
    "    \n",
    "    state_batch = torch.cat(batch.state)\n",
    "    action_batch = torch.cat(batch.action)\n",
    "    next_state_batch = torch.cat(batch.next_state)\n",
    "    reward_batch = torch.cat(batch.reward)\n",
    "    goal_batch = torch.cat(batch.goal)\n",
    "    \n",
    "    #next_state_values = torch.zeros(BATCH_SIZE, device=device)\n",
    "    #next_state_values[non_final_mask] = target_net(non_final_next_states).max(1)[0].detach()\n",
    "    \n",
    "    with torch.no_grad():\n",
    "        # set yi = ri + gamma*Q'(si+1,mu'(si+1))\n",
    "        target_actions = target_mu(torch.cat((next_state_batch, goal_batch),1))\n",
    "        y = reward_batch.view(BATCH_SIZE,1) + GAMMA*target_Q(torch.cat((next_state_batch, target_actions, goal_batch),1))\n",
    "\n",
    "    Q.train()\n",
    "    # update critic by minimizing the MSE loss = 1/m sum (y - Q(si,ai))^2\n",
    "    Q_optimizer.zero_grad()\n",
    "    q = Q(torch.cat((state_batch, action_batch, goal_batch),1))\n",
    "    #print(q)\n",
    "    loss = ((y-q)**2).mean()   \n",
    "    loss.backward()\n",
    "    Q_optimizer.step()\n",
    "    \n",
    "    #for p in Q.parameters():\n",
    "    #    p.requires_grad = False\n",
    "        \n",
    "    mu.train()\n",
    "    mu_optimizer.zero_grad()\n",
    "    # update the actor policy using the sampled policy gradient\n",
    "    #gradient_mu = 1/N sum gradient(Q(si,mu(si)) wrt mu(si)) * gradient(mu(si), wrt mu.weights)\n",
    "    actions = mu(torch.cat((state_batch, goal_batch), 1))\n",
    "    values = Q(torch.cat((state_batch, actions, goal_batch),1))\n",
    "    mean_target_values = -values.mean()\n",
    "    mean_target_values.backward()\n",
    "    mu_optimizer.step()\n",
    "    \n",
    "    #for p in Q.parameters():\n",
    "    #    p.requries_grad = True\n",
    "    \n",
    "    # update target networks\n",
    "    #target_Q.weights = tau*target_Q.weights + (1-tau)*Q.weights\n",
    "    #target_mu.weights = tau*target_mu + (1-tau)*mu.weights\n",
    "    weights_update(TAU, target_Q, Q)\n",
    "    weights_update(TAU, target_mu, mu)\n",
    "    #return mean_target_values"
   ]
  },
  {
   "cell_type": "code",
   "execution_count": 9,
   "metadata": {},
   "outputs": [
    {
     "name": "stdout",
     "output_type": "stream",
     "text": [
      "cpu\n"
     ]
    }
   ],
   "source": [
    "BATCH_SIZE = 256\n",
    "GAMMA = 0.99\n",
    "TAU = 0.0001\n",
    "device = torch.device(\"cuda\" if torch.cuda.is_available() else \"cpu\")\n",
    "print(device)"
   ]
  },
  {
   "cell_type": "code",
   "execution_count": 10,
   "metadata": {},
   "outputs": [],
   "source": [
    "def compute_reward(state, goal):\n",
    "    if state[0,0] >= goal and state[0,1] >=0:\n",
    "        done = True\n",
    "        reward = 100\n",
    "    else:\n",
    "        done = False\n",
    "        reward = -1    \n",
    "    return reward, done"
   ]
  },
  {
   "cell_type": "code",
   "execution_count": 14,
   "metadata": {},
   "outputs": [],
   "source": [
    "def plot_mu(mu):\n",
    "    plt.figure()\n",
    "    mu.eval()\n",
    "    results = np.zeros((5,10))\n",
    "    for i, x in enumerate([-1.2, -1.0, -.8, -.6, -.4, -.2, 0, .2, .4, .6]):\n",
    "        for j, v in enumerate([-0.07, -0.03, 0.0, 0.03, 0.07]):\n",
    "            results[j,i] = mu.forward(torch.tensor([[x,v, 0.45]], dtype=torch.double))\n",
    "    plt.imshow(results, cmap='bwr')\n",
    "    plt.colorbar()\n",
    "    plt.show()"
   ]
  },
  {
   "cell_type": "code",
   "execution_count": 15,
   "metadata": {},
   "outputs": [],
   "source": [
    "def plot_Q(mu,action):\n",
    "    plt.figure()\n",
    "    mu.eval()\n",
    "    results = np.zeros((5,10))\n",
    "    for i, x in enumerate([-1.2, -1.0, -.8, -.6, -.4, -.2, 0, .2, .4, .6]):\n",
    "        for j, v in enumerate([-0.07, -0.03, 0.0, 0.03, 0.07]):\n",
    "            results[j,i] = mu.forward(torch.tensor([[x,v,action,0.45]], dtype=torch.double))\n",
    "    plt.imshow(results, cmap='bwr')\n",
    "    plt.colorbar()\n",
    "    plt.show()"
   ]
  },
  {
   "cell_type": "code",
   "execution_count": null,
   "metadata": {
    "scrolled": false
   },
   "outputs": [
    {
     "data": {
      "image/png": "[encoded data removed]",
      "text/plain": [
       "<Figure size 432x288 with 1 Axes>"
      ]
     },
     "metadata": {
      "needs_background": "light"
     },
     "output_type": "display_data"
    },
    {
     "data": {
      "image/png": "[encoded data removed]",
      "text/plain": [
       "<Figure size 432x288 with 2 Axes>"
      ]
     },
     "metadata": {
      "needs_background": "light"
     },
     "output_type": "display_data"
    },
    {
     "data": {
      "image/png": "[encoded data removed]",
      "text/plain": [
       "<Figure size 432x288 with 2 Axes>"
      ]
     },
     "metadata": {
      "needs_background": "light"
     },
     "output_type": "display_data"
    },
    {
     "data": {
      "image/png": "[encoded data removed]",
      "text/plain": [
       "<Figure size 432x288 with 2 Axes>"
      ]
     },
     "metadata": {
      "needs_background": "light"
     },
     "output_type": "display_data"
    }
   ],
   "source": [
    "#WITH HINDSIGHT EXPERIENCE REPLAY\n",
    "\n",
    "# test with cart pole example to check that it works\n",
    "np.random.seed(0)\n",
    "torch.manual_seed(0)\n",
    "\n",
    "rewards = []\n",
    "\n",
    "# randomly initialize critic network Q and actor mu\n",
    "Q = network(input_dim=4, output_dim=1).double().to(device)\n",
    "mu = actor_network(input_dim=3, output_dim=1).double().to(device)\n",
    "\n",
    "# create optimizers\n",
    "Q_optimizer = optim.Adam(Q.parameters(), lr=0.001)\n",
    "mu_optimizer = optim.Adam(mu.parameters(), lr=0.001)\n",
    "\n",
    "# initialize target critic network Q' and target actor network mu' with same weights as Q and mu\n",
    "target_Q = network(input_dim=4, output_dim=1).double().to(device)\n",
    "weights_update(1, target_Q, Q)\n",
    "for p in target_Q.parameters():\n",
    "        p.requires_grad = False\n",
    "\n",
    "target_mu = actor_network(input_dim=3, output_dim=1).double().to(device)\n",
    "weights_update(1, target_mu, mu)\n",
    "for p in target_mu.parameters():\n",
    "        p.requires_grad = False\n",
    "        \n",
    "# initialize replay buffer R\n",
    "R = ReplayMemory(1000000) # size of replay buffer is 10^6\n",
    "\n",
    "env.close()\n",
    "env = gym.make('MountainCarContinuous-v0') # set environment here\n",
    "for i_episode in range(3000):\n",
    "    episode_reward = 0\n",
    "    \n",
    "    # receive initial observation state s1\n",
    "    state = env.reset()\n",
    "    \n",
    "    state = torch.tensor([state], dtype=torch.double, device=device)\n",
    "    goal = torch.tensor([[0.45]], dtype=torch.double, device=device)\n",
    "    \n",
    "    initial_state = state\n",
    "    \n",
    "    done = False\n",
    "    t = 0\n",
    "    episode_R = ReplayMemory(50)\n",
    "    max_episode_length = 1000       \n",
    "    big_diff = 0\n",
    "    new_goal = state[0,0]\n",
    "    while t < max_episode_length and not done:\n",
    "        t += 1\n",
    "        env.render()\n",
    "        \n",
    "        # select action  \n",
    "        #if i_episode % 10 != 0 or i_episode == 0:\n",
    "        mu.eval()\n",
    "        action = mu.forward(torch.cat((state,goal),1))[0]\n",
    "            \n",
    "        if i_episode < 10:\n",
    "            action = torch.tensor(env.action_space.sample(), dtype=torch.double)\n",
    "        else:\n",
    "            if np.random.rand(1) < (1-t/max_episode_length):\n",
    "                action = action + 1*torch.tensor(np.random.randn(1))\n",
    "        action = torch.min(torch.max(action,torch.tensor(-1.0, dtype=torch.double)), torch.tensor(1.0, dtype=torch.double))\n",
    "        \n",
    "        # execute action at and observe reward rt and observe new state st+1\n",
    "\n",
    "        next_state, reward, done, info = env.step(action.detach().numpy())\n",
    "        next_state = torch.tensor([next_state], dtype=torch.double, device=device)\n",
    "       \n",
    "        reward, done = compute_reward(next_state, goal)\n",
    "        reward = torch.tensor([reward], device=device)\n",
    "         # store transition (st, at, st+1, rt) in R\n",
    "        action = action.unsqueeze(0)\n",
    "        R.push(state, action.detach(), next_state, reward, goal)\n",
    "        episode_R.push(state, action.detach(), next_state, reward, goal)\n",
    "        \n",
    "        # move to the next state\n",
    "        state = next_state\n",
    "        \n",
    "        if abs(initial_state[0,0] - state[0,0]) > big_diff:\n",
    "            new_goal = state[0,0]\n",
    "        \n",
    "        if i_episode > 10:\n",
    "            optimize_model()\n",
    "        \n",
    "        episode_reward = reward + episode_reward\n",
    "        \n",
    "        if done: \n",
    "            print(t)\n",
    "            break\n",
    "\n",
    "    \n",
    "    # using final state\n",
    "    '''for i in range(episode_R.position):\n",
    "        state = episode_R.memory[i].state\n",
    "        action = episode_R.memory[i].action\n",
    "        new_reward = compute_reward(state, action, new_goal)\n",
    "        next_state = episode_R.memory[i].next_state\n",
    "        goal = new_goal.unsqueeze(0).unsqueeze(0)\n",
    "        R.push(state, action, next_state, reward, goal)'''\n",
    "       \n",
    "    # plot rewards\n",
    "    if i_episode % 1 == 0:\n",
    "        \n",
    "        rewards.append(episode_reward)\n",
    "        plot_rewards(rewards)\n",
    "        plot_Q(Q, 1)\n",
    "        plot_Q(Q, -1)\n",
    "        plot_mu(mu)\n",
    "        "
   ]
  },
  {
   "cell_type": "code",
   "execution_count": null,
   "metadata": {},
   "outputs": [],
   "source": []
  },
  {
   "cell_type": "code",
   "execution_count": null,
   "metadata": {},
   "outputs": [],
   "source": []
  },
  {
   "cell_type": "code",
   "execution_count": null,
   "metadata": {},
   "outputs": [],
   "source": []
  },
  {
   "cell_type": "code",
   "execution_count": null,
   "metadata": {},
   "outputs": [],
   "source": []
  },
  {
   "cell_type": "code",
   "execution_count": null,
   "metadata": {},
   "outputs": [],
   "source": []
  },
  {
   "cell_type": "code",
   "execution_count": null,
   "metadata": {},
   "outputs": [],
   "source": []
  },
  {
   "cell_type": "code",
   "execution_count": null,
   "metadata": {},
   "outputs": [],
   "source": []
  }
 ],
 "metadata": {
  "kernelspec": {
   "display_name": "Python 3",
   "language": "python",
   "name": "python3"
  },
  "language_info": {
   "codemirror_mode": {
    "name": "ipython",
    "version": 3
   },
   "file_extension": ".py",
   "mimetype": "text/x-python",
   "name": "python",
   "nbconvert_exporter": "python",
   "pygments_lexer": "ipython3",
   "version": "3.5.2"
  }
 },
 "nbformat": 4,
 "nbformat_minor": 4
}
